{
 "cells": [
  {
   "cell_type": "code",
   "execution_count": 1,
   "metadata": {
    "collapsed": true
   },
   "outputs": [],
   "source": [
    "import numpy as np\n",
    "import pandas as pd"
   ]
  },
  {
   "cell_type": "markdown",
   "metadata": {},
   "source": [
    "Header of csv files: Date, Open price, High price, Low price, Close price, Volume, Market Cap"
   ]
  },
  {
   "cell_type": "code",
   "execution_count": 2,
   "metadata": {
    "collapsed": true
   },
   "outputs": [],
   "source": [
    "def csv_into_df(data_path, crypto_name):\n",
    "    ### A row looks like: Nov 07, 2017,7023.10,7253.32,7023.10,7144.38,\"2,326,340,000\",\"117,056,000,000\"\n",
    "    X = np.genfromtxt(data_path, dtype= str, delimiter=',', skip_header = True, usecols = (0, 1, 2, 3, 4, 5))\n",
    "    dates = []\n",
    "    prices = []\n",
    "    \n",
    "    for i in range(X.shape[0]):\n",
    "        date = X[i][0] + ' ' + X[i][1]\n",
    "        dates.append(date)\n",
    "        ### 2 for Open Price\n",
    "        price = X[i][2]\n",
    "        prices.append(price)\n",
    "    \n",
    "    df = pd.DataFrame(np.column_stack([dates, prices]), columns=['Date', crypto_name])\n",
    "    return df"
   ]
  },
  {
   "cell_type": "code",
   "execution_count": 3,
   "metadata": {
    "collapsed": true
   },
   "outputs": [],
   "source": [
    "bitcoin_df = csv_into_df('../data/bitcoin_price.csv','BTC')\n",
    "ether_df = csv_into_df('../data/ethereum_price.csv','ETH')\n",
    "neo_df = csv_into_df('../data/neo_price.csv','NEO')\n",
    "ripple_df = csv_into_df('../data/ripple_price.csv','XRP')\n",
    "BC_df = csv_into_df('../data/bitcoin_cash_price.csv','BCH')\n",
    "dash_df = csv_into_df('../data/dash_price.csv','DASH')\n",
    "bitconnect_df = csv_into_df('../data/bitconnect_price.csv','BCC')\n",
    "etherC_df = csv_into_df('../data/ethereum_classic_price.csv','ETC')\n",
    "iota_df = csv_into_df('../data/iota_price.csv','MIOTA')\n",
    "ltc_df = csv_into_df('../data/litecoin_price.csv','LTC')\n",
    "monero_df = csv_into_df('../data/monero_price.csv','XMR')\n",
    "nem_df = csv_into_df('../data/nem_price.csv','XEM')\n",
    "numeraire_df = csv_into_df('../data/numeraire_price.csv','NMR')\n",
    "stratis_df = csv_into_df('../data/stratis_price.csv','STRAT')\n",
    "waves_df = csv_into_df('../data/waves_price.csv','WAVES')"
   ]
  },
  {
   "cell_type": "code",
   "execution_count": 4,
   "metadata": {
    "collapsed": true
   },
   "outputs": [],
   "source": [
    "final_df = bitcoin_df.merge(ether_df, how = 'outer', on = 'Date')\n",
    "final_df = final_df.merge(neo_df, how = 'outer', on = 'Date')\n",
    "final_df = final_df.merge(ripple_df, how = 'outer', on = 'Date')\n",
    "final_df = final_df.merge(BC_df, how = 'outer', on = 'Date')\n",
    "final_df = final_df.merge(dash_df, how = 'outer', on = 'Date')\n",
    "final_df = final_df.merge(bitconnect_df, how = 'outer', on = 'Date')\n",
    "final_df = final_df.merge(etherC_df, how = 'outer', on = 'Date')\n",
    "final_df = final_df.merge(iota_df, how = 'outer', on = 'Date')\n",
    "final_df = final_df.merge(ltc_df, how = 'outer', on = 'Date')\n",
    "final_df = final_df.merge(monero_df, how = 'outer', on = 'Date')\n",
    "final_df = final_df.merge(nem_df, how = 'outer', on = 'Date')\n",
    "final_df = final_df.merge(numeraire_df, how = 'outer', on = 'Date')\n",
    "final_df = final_df.merge(stratis_df, how = 'outer', on = 'Date')\n",
    "final_df = final_df.merge(waves_df, how = 'outer', on = 'Date')"
   ]
  },
  {
   "cell_type": "code",
   "execution_count": 6,
   "metadata": {},
   "outputs": [
    {
     "data": {
      "text/html": [
       "<div>\n",
       "<style>\n",
       "    .dataframe thead tr:only-child th {\n",
       "        text-align: right;\n",
       "    }\n",
       "\n",
       "    .dataframe thead th {\n",
       "        text-align: left;\n",
       "    }\n",
       "\n",
       "    .dataframe tbody tr th {\n",
       "        vertical-align: top;\n",
       "    }\n",
       "</style>\n",
       "<table border=\"1\" class=\"dataframe\">\n",
       "  <thead>\n",
       "    <tr style=\"text-align: right;\">\n",
       "      <th></th>\n",
       "      <th>Date</th>\n",
       "      <th>BTC</th>\n",
       "      <th>ETH</th>\n",
       "      <th>NEO</th>\n",
       "      <th>XRP</th>\n",
       "      <th>BCH</th>\n",
       "      <th>DASH</th>\n",
       "      <th>BCC</th>\n",
       "      <th>ETC</th>\n",
       "      <th>MIOTA</th>\n",
       "      <th>LTC</th>\n",
       "      <th>XMR</th>\n",
       "      <th>XEM</th>\n",
       "      <th>NMR</th>\n",
       "      <th>STRAT</th>\n",
       "      <th>WAVES</th>\n",
       "    </tr>\n",
       "  </thead>\n",
       "  <tbody>\n",
       "    <tr>\n",
       "      <th>0</th>\n",
       "      <td>\"Nov 07  2017\"</td>\n",
       "      <td>7023.10</td>\n",
       "      <td>298.57</td>\n",
       "      <td>26.26</td>\n",
       "      <td>0.205103</td>\n",
       "      <td>602.68</td>\n",
       "      <td>274.87</td>\n",
       "      <td>260.04</td>\n",
       "      <td>14.14</td>\n",
       "      <td>0.371509</td>\n",
       "      <td>54.99</td>\n",
       "      <td>104.23</td>\n",
       "      <td>0.186479</td>\n",
       "      <td>10.77</td>\n",
       "      <td>3.01</td>\n",
       "      <td>3.52</td>\n",
       "    </tr>\n",
       "    <tr>\n",
       "      <th>1</th>\n",
       "      <td>\"Nov 06  2017\"</td>\n",
       "      <td>7403.22</td>\n",
       "      <td>296.43</td>\n",
       "      <td>26.47</td>\n",
       "      <td>0.201967</td>\n",
       "      <td>630.31</td>\n",
       "      <td>273.47</td>\n",
       "      <td>276.58</td>\n",
       "      <td>13.30</td>\n",
       "      <td>0.351011</td>\n",
       "      <td>54.76</td>\n",
       "      <td>86.42</td>\n",
       "      <td>0.181340</td>\n",
       "      <td>11.26</td>\n",
       "      <td>3.04</td>\n",
       "      <td>3.46</td>\n",
       "    </tr>\n",
       "    <tr>\n",
       "      <th>2</th>\n",
       "      <td>\"Nov 05  2017\"</td>\n",
       "      <td>7404.52</td>\n",
       "      <td>300.04</td>\n",
       "      <td>26.48</td>\n",
       "      <td>0.203274</td>\n",
       "      <td>619.91</td>\n",
       "      <td>274.33</td>\n",
       "      <td>278.10</td>\n",
       "      <td>11.86</td>\n",
       "      <td>0.367915</td>\n",
       "      <td>55.03</td>\n",
       "      <td>87.31</td>\n",
       "      <td>0.170760</td>\n",
       "      <td>11.45</td>\n",
       "      <td>3.00</td>\n",
       "      <td>3.61</td>\n",
       "    </tr>\n",
       "    <tr>\n",
       "      <th>3</th>\n",
       "      <td>\"Nov 04  2017\"</td>\n",
       "      <td>7164.48</td>\n",
       "      <td>305.48</td>\n",
       "      <td>26.77</td>\n",
       "      <td>0.208083</td>\n",
       "      <td>635.35</td>\n",
       "      <td>278.58</td>\n",
       "      <td>270.45</td>\n",
       "      <td>12.63</td>\n",
       "      <td>0.391327</td>\n",
       "      <td>56.22</td>\n",
       "      <td>87.90</td>\n",
       "      <td>0.171515</td>\n",
       "      <td>12.45</td>\n",
       "      <td>3.12</td>\n",
       "      <td>3.65</td>\n",
       "    </tr>\n",
       "    <tr>\n",
       "      <th>4</th>\n",
       "      <td>\"Nov 03  2017\"</td>\n",
       "      <td>7087.53</td>\n",
       "      <td>288.50</td>\n",
       "      <td>24.60</td>\n",
       "      <td>0.206205</td>\n",
       "      <td>587.32</td>\n",
       "      <td>263.89</td>\n",
       "      <td>262.93</td>\n",
       "      <td>10.24</td>\n",
       "      <td>0.362970</td>\n",
       "      <td>54.58</td>\n",
       "      <td>83.53</td>\n",
       "      <td>0.166597</td>\n",
       "      <td>9.15</td>\n",
       "      <td>2.84</td>\n",
       "      <td>3.21</td>\n",
       "    </tr>\n",
       "  </tbody>\n",
       "</table>\n",
       "</div>"
      ],
      "text/plain": [
       "             Date      BTC     ETH    NEO       XRP     BCH    DASH     BCC  \\\n",
       "0  \"Nov 07  2017\"  7023.10  298.57  26.26  0.205103  602.68  274.87  260.04   \n",
       "1  \"Nov 06  2017\"  7403.22  296.43  26.47  0.201967  630.31  273.47  276.58   \n",
       "2  \"Nov 05  2017\"  7404.52  300.04  26.48  0.203274  619.91  274.33  278.10   \n",
       "3  \"Nov 04  2017\"  7164.48  305.48  26.77  0.208083  635.35  278.58  270.45   \n",
       "4  \"Nov 03  2017\"  7087.53  288.50  24.60  0.206205  587.32  263.89  262.93   \n",
       "\n",
       "     ETC     MIOTA    LTC     XMR       XEM    NMR STRAT WAVES  \n",
       "0  14.14  0.371509  54.99  104.23  0.186479  10.77  3.01  3.52  \n",
       "1  13.30  0.351011  54.76   86.42  0.181340  11.26  3.04  3.46  \n",
       "2  11.86  0.367915  55.03   87.31  0.170760  11.45  3.00  3.61  \n",
       "3  12.63  0.391327  56.22   87.90  0.171515  12.45  3.12  3.65  \n",
       "4  10.24  0.362970  54.58   83.53  0.166597   9.15  2.84  3.21  "
      ]
     },
     "execution_count": 6,
     "metadata": {},
     "output_type": "execute_result"
    }
   ],
   "source": [
    "final_df = final_df.fillna(0)\n",
    "final_df.head()"
   ]
  },
  {
   "cell_type": "code",
   "execution_count": 8,
   "metadata": {},
   "outputs": [],
   "source": [
    "final_df.to_csv(\"crypto_prices.csv\", sep = ',', index = False)"
   ]
  },
  {
   "cell_type": "code",
   "execution_count": null,
   "metadata": {
    "collapsed": true
   },
   "outputs": [],
   "source": []
  }
 ],
 "metadata": {
  "kernelspec": {
   "display_name": "Python [conda root]",
   "language": "python",
   "name": "conda-root-py"
  },
  "language_info": {
   "codemirror_mode": {
    "name": "ipython",
    "version": 3
   },
   "file_extension": ".py",
   "mimetype": "text/x-python",
   "name": "python",
   "nbconvert_exporter": "python",
   "pygments_lexer": "ipython3",
   "version": "3.6.1"
  }
 },
 "nbformat": 4,
 "nbformat_minor": 2
}
